{
 "cells": [
  {
   "cell_type": "code",
   "execution_count": 1,
   "id": "177543a0",
   "metadata": {},
   "outputs": [],
   "source": [
    "# Import the necessary modules\n",
    "from multiprocessing.dummy import Namespace\n",
    "import os\n",
    "import glob\n",
    "from tkinter.font import names\n",
    "from PIL import Image\n",
    "\n",
    "width=256\n",
    "\n",
    "path='/home/huangyanbin/0A__SoftwareProjects/Blind_watermark_DNN/datas/logo/IEEE/new-ieeelogo.png'\n",
    "\n",
    "img = Image.open(path)\n",
    "\n",
    "img = img.resize((width,width))\n",
    "# Save the image in the same path with the same name\n",
    "img.save('./ieee_256.png')\n"
   ]
  }
 ],
 "metadata": {
  "kernelspec": {
   "display_name": "Python 3",
   "language": "python",
   "name": "python3"
  },
  "language_info": {
   "codemirror_mode": {
    "name": "ipython",
    "version": 3
   },
   "file_extension": ".py",
   "mimetype": "text/x-python",
   "name": "python",
   "nbconvert_exporter": "python",
   "pygments_lexer": "ipython3",
   "version": "3.7.12"
  }
 },
 "nbformat": 4,
 "nbformat_minor": 5
}
