{
 "cells": [
  {
   "cell_type": "code",
   "execution_count": 2,
   "id": "177543a0",
   "metadata": {},
   "outputs": [
    {
     "name": "stdout",
     "output_type": "stream",
     "text": [
      "E-value: [2.+0.00000000e+00j 1.+1.23088071e-07j 1.-1.23088071e-07j]\n",
      "E-vector [[-0.71554175+0.00000000e+00j  0.63960215+2.62424649e-08j\n",
      "   0.63960215-2.62424649e-08j]\n",
      " [-0.53665631+0.00000000e+00j  0.63960215+0.00000000e+00j\n",
      "   0.63960215-0.00000000e+00j]\n",
      " [ 0.4472136 +0.00000000e+00j -0.42640143-1.74949766e-08j\n",
      "  -0.42640143+1.74949766e-08j]]\n"
     ]
    }
   ],
   "source": [
    "import numpy as np\n",
    "from numpy.linalg import eig\n",
    "a = np.array([[8, -3,6], \n",
    "              [3,-2,0],\n",
    "              [-4,2,-2]])\n",
    "w,v=eig(a)\n",
    "print('E-value:', w)\n",
    "print('E-vector', v)"
   ]
  }
 ],
 "metadata": {
  "kernelspec": {
   "display_name": "Python 3",
   "language": "python",
   "name": "python3"
  },
  "language_info": {
   "codemirror_mode": {
    "name": "ipython",
    "version": 3
   },
   "file_extension": ".py",
   "mimetype": "text/x-python",
   "name": "python",
   "nbconvert_exporter": "python",
   "pygments_lexer": "ipython3",
   "version": "3.8.18"
  }
 },
 "nbformat": 4,
 "nbformat_minor": 5
}
