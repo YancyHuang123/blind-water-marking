{
 "cells": [
  {
   "cell_type": "code",
   "execution_count": 1,
   "id": "177543a0",
   "metadata": {},
   "outputs": [
    {
     "name": "stdout",
     "output_type": "stream",
     "text": [
      "Files already downloaded and verified\n",
      "Files already downloaded and verified\n",
      "Files already downloaded and verified\n",
      "Files already downloaded and verified\n"
     ]
    }
   ],
   "source": [
    "from lightning.evaluator import Evaluator\n",
    "from lightning.trainer_original import Trainer\n",
    "from lightning.dataloader import MyLoader\n",
    "from models.main_model import MainModel\n",
    "from data_preprocess.cifar_dataset import get_dataset, get_watermark\n",
    "import torch.nn as nn\n",
    "import torch\n",
    "import numpy as np\n",
    "import random\n",
    "import torch.backends.cudnn as cudnn\n",
    "import torchvision\n",
    "import torchvision.transforms as transforms\n",
    "import os\n",
    "os.environ[\"CUDA_VISIBLE_DEVICES\"]='0'\n",
    "if __name__=='__main__':\n",
    "    batch_size = 16\n",
    "    wm_batch_size = 20\n",
    "\n",
    "\n",
    "    train_set, test_set, trigger_train, trigger_test = get_dataset()\n",
    "\n",
    "    train_loader = MyLoader(train_set, batch_size, shuffle=False)\n",
    "    test_loader = MyLoader(test_set, batch_size, shuffle=False)\n",
    "    trigger_train_loader = MyLoader(trigger_train, batch_size=wm_batch_size, shuffle=False)\n",
    "    trigger_test_loader = MyLoader(trigger_test, batch_size=wm_batch_size, shuffle=False)\n",
    "    \n",
    "    # get the watermark-cover images foe each batch\n",
    "    wm_inputs, wm_cover_labels = [], []\n",
    "    wm_labels = []\n",
    "    np_labels=np.random.randint(\n",
    "    10, size=(int(500/wm_batch_size), wm_batch_size))\n",
    "    wm_labels = torch.from_numpy(np_labels).cuda()\n",
    "    \n",
    "    for wm_idx, (wm_input, wm_cover_label) in enumerate(trigger_train_loader):\n",
    "        wm_input, wm_cover_label = wm_input.cuda(), wm_cover_label.cuda()\n",
    "        wm_inputs.append(wm_input)\n",
    "        wm_cover_labels.append(wm_cover_label)\n",
    "        #wm_labels.append(SpecifiedLabel(wm_cover_label))\n",
    "\n",
    "        if  wm_idx == (int(500/wm_batch_size)-1):  # choose 1% of dataset as origin sample\n",
    "            break\n",
    "\n",
    "    logo = get_watermark()\n",
    "\n",
    "    cwd = os.getcwd()\n",
    "    model = MainModel(mutiGPU=True)\n",
    "    model.load_checkpoint('/home/huangyanbin/0A__SoftwareProjects/Blind_watermark_DNN/check_points/2023-11-14_12-31-10/main_model.pt')\n",
    "    evaluator=Evaluator(model,'/home/huangyanbin/0A__SoftwareProjects/Blind_watermark_DNN/check_points/2023-11-14_12-31-10')\n",
    "    \n",
    "    it=iter(train_loader)\n",
    "    X=next(it)[0]\n",
    "\n",
    "    evaluator.embeding_visualization(X,logo)\n"
   ]
  }
 ],
 "metadata": {
  "kernelspec": {
   "display_name": "Python 3",
   "language": "python",
   "name": "python3"
  },
  "language_info": {
   "codemirror_mode": {
    "name": "ipython",
    "version": 3
   },
   "file_extension": ".py",
   "mimetype": "text/x-python",
   "name": "python",
   "nbconvert_exporter": "python",
   "pygments_lexer": "ipython3",
   "version": "3.7.12"
  }
 },
 "nbformat": 4,
 "nbformat_minor": 5
}
