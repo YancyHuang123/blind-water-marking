{
 "cells": [
  {
   "cell_type": "code",
   "execution_count": 2,
   "metadata": {},
   "outputs": [],
   "source": [
    "import pandas as pd\n",
    "import matplotlib.pyplot as plt\n",
    "from matplotlib.pylab import mpl\n",
    "from matplotlib.pyplot import MultipleLocator # type: ignore\n",
    "\n",
    "folder='../lightning_logs/version_2'\n",
    "file_name='metrics.csv'\n",
    "df=pd.read_csv(f'{folder}/{file_name}')"
   ]
  },
  {
   "cell_type": "code",
   "execution_count": 3,
   "metadata": {},
   "outputs": [
    {
     "data": {
      "text/html": [
       "<div>\n",
       "<style scoped>\n",
       "    .dataframe tbody tr th:only-of-type {\n",
       "        vertical-align: middle;\n",
       "    }\n",
       "\n",
       "    .dataframe tbody tr th {\n",
       "        vertical-align: top;\n",
       "    }\n",
       "\n",
       "    .dataframe thead th {\n",
       "        text-align: right;\n",
       "    }\n",
       "</style>\n",
       "<table border=\"1\" class=\"dataframe\">\n",
       "  <thead>\n",
       "    <tr style=\"text-align: right;\">\n",
       "      <th></th>\n",
       "      <th>loss_D</th>\n",
       "      <th>step</th>\n",
       "      <th>loss_ssim</th>\n",
       "      <th>loss_H</th>\n",
       "      <th>epoch</th>\n",
       "      <th>loss_DNN</th>\n",
       "      <th>loss_mse</th>\n",
       "      <th>loss_adv</th>\n",
       "    </tr>\n",
       "  </thead>\n",
       "  <tbody>\n",
       "    <tr>\n",
       "      <th>0</th>\n",
       "      <td>1.4182</td>\n",
       "      <td>87</td>\n",
       "      <td>0.502349</td>\n",
       "      <td>3.805171</td>\n",
       "      <td>0</td>\n",
       "      <td>1.136298</td>\n",
       "      <td>0.052493</td>\n",
       "      <td>0.979148</td>\n",
       "    </tr>\n",
       "  </tbody>\n",
       "</table>\n",
       "</div>"
      ],
      "text/plain": [
       "   loss_D  step  loss_ssim    loss_H  epoch  loss_DNN  loss_mse  loss_adv\n",
       "0  1.4182    87   0.502349  3.805171      0  1.136298  0.052493  0.979148"
      ]
     },
     "execution_count": 3,
     "metadata": {},
     "output_type": "execute_result"
    }
   ],
   "source": [
    "df.head()"
   ]
  },
  {
   "cell_type": "code",
   "execution_count": 7,
   "metadata": {},
   "outputs": [
    {
     "name": "stdout",
     "output_type": "stream",
     "text": [
      "Index(['loss_D', 'step', 'loss_ssim', 'loss_H', 'epoch', 'loss_DNN',\n",
      "       'loss_mse', 'loss_adv'],\n",
      "      dtype='object')\n"
     ]
    }
   ],
   "source": [
    "names=df.columns.to_list()\n",
    "print(names.to_list())"
   ]
  },
  {
   "cell_type": "code",
   "execution_count": null,
   "metadata": {},
   "outputs": [],
   "source": [
    "\n",
    "        plt.plot(range(1, len(v[0])+1), v[0],label=f'{name}')\n",
    "\n",
    "\n",
    "    ax=plt.gca()\n",
    "    ax.xaxis.set_major_locator(MultipleLocator(2)) \n",
    "\n",
    "    plt.xlabel('epoch') #设置坐标标注\n",
    "    plt.ylabel('loss')\n",
    "    \n",
    "\n",
    "    ax = plt.subplot(111)\n",
    "    box = ax.get_position()\n",
    "    ax.set_position([box.x0, box.y0, box.width * 0.8, box.height])\n",
    "\n",
    "    # Put a legend to the right of the current axis\n",
    "    ax.legend(loc='center left', bbox_to_anchor=(1, 0.5))\n",
    "    \n",
    "    plt.title(\"losses by epoch\") # 设置title"
   ]
  }
 ],
 "metadata": {
  "kernelspec": {
   "display_name": "deep_learning",
   "language": "python",
   "name": "python3"
  },
  "language_info": {
   "codemirror_mode": {
    "name": "ipython",
    "version": 3
   },
   "file_extension": ".py",
   "mimetype": "text/x-python",
   "name": "python",
   "nbconvert_exporter": "python",
   "pygments_lexer": "ipython3",
   "version": "3.8.18"
  }
 },
 "nbformat": 4,
 "nbformat_minor": 2
}
